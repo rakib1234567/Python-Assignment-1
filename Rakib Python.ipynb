{
 "cells": [
  {
   "cell_type": "code",
   "execution_count": 1,
   "metadata": {},
   "outputs": [
    {
     "name": "stdout",
     "output_type": "stream",
     "text": [
      "Enter m: 7\n",
      "Enter n: 3\n",
      "*  *  *  *  *  *  *  \n",
      "\n",
      "*                 *  \n",
      "\n",
      "*  *  *  *  *  *  *  "
     ]
    }
   ],
   "source": [
    "#Q1.write a function called rectangle thats takes two integers m and n as arguments and prints out an    m*n box consisting of asterisks.\n",
    "\n",
    "#solution:\n",
    "\n",
    "def rectangle(m,n):\n",
    "    for x in range(m):\n",
    "        print(\"*\", end=\"  \")\n",
    "    print(\"\\n\")\n",
    "    for x in range(n-2):\n",
    "        for y in range(m):\n",
    "            if(y == 0 or y == m-1):\n",
    "                print(\"*\", end=\"  \")\n",
    "            else:\n",
    "                print(\" \", end=\"  \")\n",
    "        print(\"\\n\")\n",
    "    for x in range(m):\n",
    "        print(\"*\", end=\"  \")\n",
    "m = input(\"Enter m: \")\n",
    "n = input(\"Enter n: \")\n",
    "rectangle(int(m),int(n))"
   ]
  },
  {
   "cell_type": "code",
   "execution_count": 2,
   "metadata": {},
   "outputs": [
    {
     "name": "stdout",
     "output_type": "stream",
     "text": [
      "['rakib!', 'Fghij!', 'Klmno!']\n"
     ]
    }
   ],
   "source": [
    "#Question 2. Write a function called add_excitement that takes a list of strings and adds an exclamation point ( ! ) to the end of each string in the list. The program should modify the original list and not return anything.\n",
    "\n",
    "\n",
    "#solution:\n",
    "    \n",
    "def add_excitement(myList):\n",
    "    myList[:] = [x + \"!\" for x in myList]\n",
    "myStringList = [\"rakib\", \"Fghij\", \"Klmno\"]\n",
    "add_excitement(myStringList)\n",
    "# List of String modified\n",
    "print(myStringList)"
   ]
  },
  {
   "cell_type": "code",
   "execution_count": 4,
   "metadata": {},
   "outputs": [
    {
     "name": "stdout",
     "output_type": "stream",
     "text": [
      "Previous List:  ['alam', 'Fghij', 'Klmno']\n",
      "New List:  ['alam!', 'Fghij!', 'Klmno!']\n"
     ]
    }
   ],
   "source": [
    "#Question 3. Write the same function except that it should not modify the original list and should instead return a new list.\n",
    "\n",
    "\n",
    "#solution:\n",
    "    \n",
    "    \n",
    "def add_excitement(myList):\n",
    "    newList = [x + \"!\" for x in myList]\n",
    "    return newList\n",
    "myStringList = [\"alam\", \"Fghij\", \"Klmno\"]\n",
    "NewList = add_excitement(myStringList)\n",
    "print(\"Previous List: \", myStringList)\n",
    "print(\"New List: \", NewList)"
   ]
  },
  {
   "cell_type": "code",
   "execution_count": 6,
   "metadata": {},
   "outputs": [
    {
     "name": "stdout",
     "output_type": "stream",
     "text": [
      "1\n"
     ]
    }
   ],
   "source": [
    "#Question 4. The digital root of a number n is obtained as follows: Add up the digits n to get a new number. Add up the digits of that to get another new number. Keep doing this until you get a number that has only one digit. That number is the digital root. For example, if n = 45893 , we add up the digits to get 4 + 5 + 8 + 9 + 3 = 29 . We then add up the digits of 29 to get 2 + 9 = 11 . We then add up the digits of 11 to get 1 + 1 = 2 . Since 2 has only one digit, 2 is our digital root. Write a function that returns the digital root of an integer n . [Note: there is a shortcut, where the digital root is equal to n mod 9, but do not use that here.]\n",
    "\n",
    "#solution:\n",
    "    \n",
    "def Find_Digital_Root(number):\n",
    "    temp = number\n",
    "    while True:\n",
    "        numb = sum(map(int, str(temp)))\n",
    "        if numb >= 10:\n",
    "            temp = numb\n",
    "        else:\n",
    "            print(numb)\n",
    "            break\n",
    "\n",
    "\n",
    "Find_Digital_Root(100)"
   ]
  },
  {
   "cell_type": "code",
   "execution_count": 7,
   "metadata": {},
   "outputs": [
    {
     "name": "stdout",
     "output_type": "stream",
     "text": [
      "Enter a number: 1112\n",
      "8275\n"
     ]
    }
   ],
   "source": [
    "#Question 5. Write a function that takes an integer n and returns a random integer with exactly n digits. For instance, if n is 3, then 125 and 593 would be valid return values, but 093 would not because that is really 93, which is a two-digit number.\n",
    "\n",
    "#solution:\n",
    "    \n",
    "import random\n",
    "def randomNumber(number):\n",
    "    count = 0\n",
    "    limit = 1\n",
    "    while number > 1:\n",
    "        count+=1\n",
    "        number /= 10\n",
    "    for i in range(count-1):\n",
    "        limit = limit * 10\n",
    "    print(random.randrange(limit, limit * 10 - 1))\n",
    "\n",
    "x = int(input(\"Enter a number: \"))\n",
    "randomNumber(x)"
   ]
  },
  {
   "cell_type": "code",
   "execution_count": 8,
   "metadata": {},
   "outputs": [
    {
     "name": "stdout",
     "output_type": "stream",
     "text": [
      "Input first string: tohir\n",
      "Input second string: tosiro\n",
      "4\n"
     ]
    }
   ],
   "source": [
    "#Question 6. Write a function called matches that takes two strings as arguments and returns how many matches there are between the strings. A match is where the two strings have the same character at the same index. For instance, ' python ' and ' path ' match in the first, third, and fourth characters, so the function should return 3.\n",
    "\n",
    "#Solution:\n",
    "    \n",
    "def matches(str1, str2):\n",
    "    temp = len(str1)\n",
    "    count = 0\n",
    "    if(len(str1) < len(str2)):\n",
    "        temp = len(str1)\n",
    "    for x in range(temp):\n",
    "        if str1[x] == str2[x]:\n",
    "            count += 1\n",
    "    return count;\n",
    "str1 = input(\"Input first string: \")\n",
    "str2 = input(\"Input second string: \")\n",
    "\n",
    "print(matches(str1, str2))"
   ]
  },
  {
   "cell_type": "code",
   "execution_count": 9,
   "metadata": {},
   "outputs": [
    {
     "name": "stdout",
     "output_type": "stream",
     "text": [
      "2 3 5 7 11 13 17 19 23 29 \n",
      "2 3 5 7 11 13 17 19 23 29 31 37 41 43 47 53 59 61 67 71 73 79 83 89 97 101 103 107 109 113 127 131 137 139 149 151 157 163 167 173 179 181 191 193 197 199 \n"
     ]
    }
   ],
   "source": [
    "#Question 7. Write a function called primes that is given a number n and returns a list of the first n primes. Let the default value of n be 100.\n",
    "\n",
    "#Solution:\n",
    "    \n",
    "def primes(n = 100):\n",
    "    count = 0\n",
    "    for x in range(2, n+1*100):\n",
    "        flag = False\n",
    "        for y in range(2, x):\n",
    "            if x % y == 0:\n",
    "                flag = True\n",
    "                break\n",
    "        if not flag:\n",
    "            print(x, end=\" \")\n",
    "            count+=1\n",
    "            if(count == n):\n",
    "                break\n",
    "    print()\n",
    "primes(10)\n",
    "primes()"
   ]
  },
  {
   "cell_type": "code",
   "execution_count": 10,
   "metadata": {},
   "outputs": [
    {
     "name": "stdout",
     "output_type": "stream",
     "text": [
      "0 2 4 6 \n",
      "empty list\n",
      "\n"
     ]
    }
   ],
   "source": [
    "#Question 8. Recall that if s is a string, then s.find( ' a ' ) will find the location of the first a in s . The problem is that it does not find the location of every a. Write a function called findall that given a string and a single character, returns a list containing all of the locations of that character in the string. It should return an empty list if there are no occurrences of the character in the string.\n",
    "\n",
    "#Solution:\n",
    "    \n",
    "def findall(char, str):\n",
    "    empty = True\n",
    "    for x in range(len(str)):\n",
    "        if str[x] == char:\n",
    "            empty = False\n",
    "            print(x, end=\" \")\n",
    "    if empty:\n",
    "        print(\"empty list\")\n",
    "    print()\n",
    "\n",
    " #      01234567\n",
    "str1 = \"abacadaf\"\n",
    "findall('a', str1)\n",
    "findall('x', str1)"
   ]
  }
 ],
 "metadata": {
  "kernelspec": {
   "display_name": "Python 3",
   "language": "python",
   "name": "python3"
  },
  "language_info": {
   "codemirror_mode": {
    "name": "ipython",
    "version": 3
   },
   "file_extension": ".py",
   "mimetype": "text/x-python",
   "name": "python",
   "nbconvert_exporter": "python",
   "pygments_lexer": "ipython3",
   "version": "3.7.0"
  }
 },
 "nbformat": 4,
 "nbformat_minor": 2
}
